{
 "cells": [
  {
   "cell_type": "code",
   "execution_count": 2,
   "metadata": {
    "collapsed": true
   },
   "outputs": [],
   "source": [
    "# import libraries\n",
    "import requests\n",
    "import json\n",
    "import zipfile"
   ]
  },
  {
   "cell_type": "code",
   "execution_count": 3,
   "metadata": {},
   "outputs": [
    {
     "name": "stdout",
     "output_type": "stream",
     "text": [
      "200\n",
      "{\"nodes\":[{\"nodeID\":\"8837\",\"text\":\"analyses\",\"type\":\"L\",\"timestamp\":\"2012-12-07 12:21:49\"},{\"nodeID\":\"24427\",\"text\":\"{P1 A5} If an animal behaves in a certain manner, what may we conclude the consciousness accompanying its behavior to be like?\",\"type\":\"I\",\"timestamp\":\"2013-10-31 13:58:11\"},{\"nodeID\":\"24428\",\"text\":\"{P2 A2} interpretation is often confused with the observation, but theoretically the two problems are distinct.\",\"type\":\"I\",\"timestamp\":\"2013-10-31 13:58:11\"},{\"nodeID\":\"24429\",\"text\":\"{P3 A5} all psychic interpretation of animal behavior must be on the analogy of human experience.\",\"type\":\"I\",\"timestamp\":\"2013-10-31 13:58:11\"},{\"nodeID\":\"24430\",\"text\":\"{P4 A0} We do not know the meaning of such terms as perception, pleasure, fear, anger, visual sensation, etc., except as these processes form a part of the contents of our own minds.\",\"type\":\"I\",\"timestamp\":\"2013-10-31 13:58:11\"},{\"nodeID\":\"24431\",\"text\":\"RA\",\"type\":\"RA\",\"timestamp\":\"2013-10-31 13:58:11\"},{\"nodeID\":\"24432\",\"text\":\"{P5 A2}  we must be anthropomorphic in the notions we form of what takes place in the mind of an animal.\",\"type\":\"I\",\"timestamp\":\"2013-10-31 13:58:11\"},{\"nodeID\":\"24433\",\"text\":\"RA\",\"type\":\"RA\",\"timestamp\":\"2013-10-31 13:58:11\"},{\"nodeID\":\"24434\",\"text\":\"{P6 A0} Accepting this fundamental proposition, the students of animals have yet differed widely in the conclusions they have drawn from it {P5}\",\"type\":\"I\",\"timestamp\":\"2013-10-31 13:58:11\"},{\"nodeID\":\"24435\",\"text\":\"RA\",\"type\":\"RA\",\"timestamp\":\"2013-10-31 13:58:11\"},{\"nodeID\":\"24436\",\"text\":\"{P7 A0} Some have gone to the extreme of declaring that comparative psychology is therefore impossible. Others have joyfully hastened to make animals as human as they could. Still others have occupied an intermediate position.\",\"type\":\"I\",\"timestamp\":\"2013-10-31 13:58:11\"},{\"nodeID\":\"24437\",\"text\":\"RA\",\"type\":\"RA\",\"timestamp\":\"2013-10-31 13:58:11\"},{\"nodeID\":\"24438\",\"text\":\"RA\",\"type\":\"RA\",\"timestamp\":\"2013-10-31 13:58:11\"},{\"nodeID\":\"24439\",\"text\":\"RA\",\"type\":\"RA\",\"timestamp\":\"2013-10-31 13:58:11\"},{\"nodeID\":\"24440\",\"text\":\"Animal Mind Arg1\",\"type\":\"I\",\"timestamp\":\"2013-10-31 13:58:11\"}],\"edges\":[{\"edgeID\":\"23961\",\"fromID\":\"8837\",\"toID\":\"24427\",\"formEdgeID\":null},{\"edgeID\":\"23962\",\"fromID\":\"8837\",\"toID\":\"24428\",\"formEdgeID\":null},{\"edgeID\":\"23963\",\"fromID\":\"8837\",\"toID\":\"24429\",\"formEdgeID\":null},{\"edgeID\":\"23964\",\"fromID\":\"8837\",\"toID\":\"24430\",\"formEdgeID\":null},{\"edgeID\":\"23965\",\"fromID\":\"24430\",\"toID\":\"24431\",\"formEdgeID\":null},{\"edgeID\":\"23966\",\"fromID\":\"8837\",\"toID\":\"24431\",\"formEdgeID\":null},{\"edgeID\":\"23967\",\"fromID\":\"24431\",\"toID\":\"24429\",\"formEdgeID\":null},{\"edgeID\":\"23968\",\"fromID\":\"8837\",\"toID\":\"24432\",\"formEdgeID\":null},{\"edgeID\":\"23969\",\"fromID\":\"24429\",\"toID\":\"24433\",\"formEdgeID\":null},{\"edgeID\":\"23970\",\"fromID\":\"8837\",\"toID\":\"24433\",\"formEdgeID\":null},{\"edgeID\":\"23971\",\"fromID\":\"24433\",\"toID\":\"24432\",\"formEdgeID\":null},{\"edgeID\":\"23972\",\"fromID\":\"8837\",\"toID\":\"24434\",\"formEdgeID\":null},{\"edgeID\":\"23973\",\"fromID\":\"24432\",\"toID\":\"24435\",\"formEdgeID\":null},{\"edgeID\":\"23974\",\"fromID\":\"8837\",\"toID\":\"24435\",\"formEdgeID\":null},{\"edgeID\":\"23975\",\"fromID\":\"24435\",\"toID\":\"24434\",\"formEdgeID\":null},{\"edgeID\":\"23976\",\"fromID\":\"8837\",\"toID\":\"24436\",\"formEdgeID\":null},{\"edgeID\":\"23977\",\"fromID\":\"24436\",\"toID\":\"24437\",\"formEdgeID\":null},{\"edgeID\":\"23978\",\"fromID\":\"8837\",\"toID\":\"24437\",\"formEdgeID\":null},{\"edgeID\":\"23979\",\"fromID\":\"24437\",\"toID\":\"24434\",\"formEdgeID\":null},{\"edgeID\":\"23980\",\"fromID\":\"24428\",\"toID\":\"24438\",\"formEdgeID\":null},{\"edgeID\":\"23981\",\"fromID\":\"8837\",\"toID\":\"24438\",\"formEdgeID\":null},{\"edgeID\":\"23982\",\"fromID\":\"24438\",\"toID\":\"24434\",\"formEdgeID\":null},{\"edgeID\":\"23983\",\"fromID\":\"24427\",\"toID\":\"24439\",\"formEdgeID\":null},{\"edgeID\":\"23984\",\"fromID\":\"8837\",\"toID\":\"24439\",\"formEdgeID\":null},{\"edgeID\":\"23985\",\"fromID\":\"24439\",\"toID\":\"24434\",\"formEdgeID\":null},{\"edgeID\":\"32170\",\"fromID\":\"8837\",\"toID\":\"8837\",\"formEdgeID\":null}],\"locutions\":[{\"nodeID\":\"8837\",\"personID\":\"488\",\"timestamp\":\"2014-02-19 11:54:58\",\"start\":null,\"end\":null,\"source\":null},{\"nodeID\":\"8837\",\"personID\":\"0\",\"timestamp\":\"2015-11-11 11:38:52\",\"start\":null,\"end\":null,\"source\":null},{\"nodeID\":\"8837\",\"personID\":\"0\",\"timestamp\":\"2015-11-11 11:38:53\",\"start\":null,\"end\":null,\"source\":null},{\"nodeID\":\"8837\",\"personID\":\"0\",\"timestamp\":\"2015-11-11 11:39:16\",\"start\":null,\"end\":null,\"source\":null},{\"nodeID\":\"8837\",\"personID\":\"0\",\"timestamp\":\"2015-11-11 11:39:17\",\"start\":null,\"end\":null,\"source\":null}]}\n"
     ]
    }
   ],
   "source": [
    "# link to a json\n",
    "test_link = \"http://www.aifdb.org/json/1238\"\n",
    "\n",
    "# test if requests can download the json\n",
    "r = requests.get(test_link)\n",
    "\n",
    "# print status code\n",
    "print(r.status_code)\n",
    "\n",
    "# print json if status code is 200\n",
    "if r.status_code == requests.codes.ok:\n",
    "    print(r.text)"
   ]
  },
  {
   "cell_type": "code",
   "execution_count": 4,
   "metadata": {},
   "outputs": [
    {
     "name": "stdout",
     "output_type": "stream",
     "text": [
      "success!\n"
     ]
    }
   ],
   "source": [
    "# now we know it works so we'll just test if its json\n",
    "try:\n",
    "    json.loads(r.text)\n",
    "    print('success!')\n",
    "except ValueError:\n",
    "    print('string may be valid but it isn\\'t json')\n",
    "    "
   ]
  },
  {
   "cell_type": "code",
   "execution_count": 5,
   "metadata": {},
   "outputs": [
    {
     "name": "stdout",
     "output_type": "stream",
     "text": [
      "200\n",
      "<!DOCTYPE html>\n",
      "\n",
      "<html lang=\"en\">\n",
      "\n",
      "<head>\n",
      "    <title>Generating Archive...</title>\n",
      "    <link rel=\"stylesheet\" href=\"../res/css/archive.css\" />\n",
      "    <script language=\"javascript\" type=\"text/javascript\">\n",
      "        function redirect() {\n",
      "            window.location.href = \"../zip/dbyd/download\";\n",
      "        }\n",
      "    </script>\n",
      "</head>\n",
      "\n",
      "<body onLoad=\"redirect();\">\n",
      "\n",
      "<div id=\"loadbox\">\n",
      "<h1>Generating archive file...</h1>\n",
      "\n",
      "<a href=\"../\">&laquo; Click here to go back</a>&nbsp;\n",
      "</div>\n",
      "\n",
      "<script>\n",
      "  (function(i,s,o,g,r,a,m){i['GoogleAnalyticsObject']=r;i[r]=i[r]||function(){\n",
      "  (i[r].q=i[r].q||[]).push(arguments)},i[r].l=1*new Date();a=s.createElement(o),\n",
      "  m=s.getElementsByTagName(o)[0];a.async=1;a.src=g;m.parentNode.insertBefore(a,m)\n",
      "  })(window,document,'script','//www.google-analytics.com/analytics.js','ga');\n",
      "\n",
      "  ga('create', 'UA-57239260-1', 'auto');\n",
      "  ga('send', 'pageview');\n",
      "\n",
      "</script>\n",
      "</body>\n",
      "</html>\n",
      "\n",
      "\n"
     ]
    }
   ],
   "source": [
    "# now we will try downloading an entire archive and extracting the contents\n",
    "\n",
    "# archive link\n",
    "archive_link_test = 'http://corpora.aifdb.org/zip/dbyd'\n",
    "\n",
    "# test if requests can download the zip file\n",
    "r2 = requests.get(archive_link_test)\n",
    "\n",
    "# print status code\n",
    "print(r2.status_code)\n",
    "\n",
    "print(r2.text)"
   ]
  },
  {
   "cell_type": "code",
   "execution_count": 19,
   "metadata": {
    "scrolled": true
   },
   "outputs": [
    {
     "ename": "AttributeError",
     "evalue": "'Response' object has no attribute 'seek'",
     "output_type": "error",
     "traceback": [
      "\u001b[1;31m---------------------------------------------------------------------------\u001b[0m",
      "\u001b[1;31mAttributeError\u001b[0m                            Traceback (most recent call last)",
      "\u001b[1;32m<ipython-input-19-af925eab46ca>\u001b[0m in \u001b[0;36m<module>\u001b[1;34m()\u001b[0m\n\u001b[0;32m      2\u001b[0m \u001b[1;31m# lets test if it still works however\u001b[0m\u001b[1;33m\u001b[0m\u001b[1;33m\u001b[0m\u001b[0m\n\u001b[0;32m      3\u001b[0m \u001b[1;33m\u001b[0m\u001b[0m\n\u001b[1;32m----> 4\u001b[1;33m \u001b[0marchive\u001b[0m \u001b[1;33m=\u001b[0m \u001b[0mzipfile\u001b[0m\u001b[1;33m.\u001b[0m\u001b[0mZipFile\u001b[0m\u001b[1;33m(\u001b[0m\u001b[0mr2\u001b[0m\u001b[1;33m)\u001b[0m\u001b[1;33m\u001b[0m\u001b[0m\n\u001b[0m\u001b[0;32m      5\u001b[0m \u001b[1;33m\u001b[0m\u001b[0m\n\u001b[0;32m      6\u001b[0m \u001b[0mprint\u001b[0m\u001b[1;33m(\u001b[0m\u001b[0marchive\u001b[0m\u001b[1;33m.\u001b[0m\u001b[0mis_zipfile\u001b[0m\u001b[1;33m)\u001b[0m\u001b[1;33m\u001b[0m\u001b[0m\n",
      "\u001b[1;32mD:\\anaconda3\\lib\\zipfile.py\u001b[0m in \u001b[0;36m__init__\u001b[1;34m(self, file, mode, compression, allowZip64)\u001b[0m\n\u001b[0;32m   1098\u001b[0m         \u001b[1;32mtry\u001b[0m\u001b[1;33m:\u001b[0m\u001b[1;33m\u001b[0m\u001b[0m\n\u001b[0;32m   1099\u001b[0m             \u001b[1;32mif\u001b[0m \u001b[0mmode\u001b[0m \u001b[1;33m==\u001b[0m \u001b[1;34m'r'\u001b[0m\u001b[1;33m:\u001b[0m\u001b[1;33m\u001b[0m\u001b[0m\n\u001b[1;32m-> 1100\u001b[1;33m                 \u001b[0mself\u001b[0m\u001b[1;33m.\u001b[0m\u001b[0m_RealGetContents\u001b[0m\u001b[1;33m(\u001b[0m\u001b[1;33m)\u001b[0m\u001b[1;33m\u001b[0m\u001b[0m\n\u001b[0m\u001b[0;32m   1101\u001b[0m             \u001b[1;32melif\u001b[0m \u001b[0mmode\u001b[0m \u001b[1;32min\u001b[0m \u001b[1;33m(\u001b[0m\u001b[1;34m'w'\u001b[0m\u001b[1;33m,\u001b[0m \u001b[1;34m'x'\u001b[0m\u001b[1;33m)\u001b[0m\u001b[1;33m:\u001b[0m\u001b[1;33m\u001b[0m\u001b[0m\n\u001b[0;32m   1102\u001b[0m                 \u001b[1;31m# set the modified flag so central directory gets written\u001b[0m\u001b[1;33m\u001b[0m\u001b[1;33m\u001b[0m\u001b[0m\n",
      "\u001b[1;32mD:\\anaconda3\\lib\\zipfile.py\u001b[0m in \u001b[0;36m_RealGetContents\u001b[1;34m(self)\u001b[0m\n\u001b[0;32m   1162\u001b[0m         \u001b[0mfp\u001b[0m \u001b[1;33m=\u001b[0m \u001b[0mself\u001b[0m\u001b[1;33m.\u001b[0m\u001b[0mfp\u001b[0m\u001b[1;33m\u001b[0m\u001b[0m\n\u001b[0;32m   1163\u001b[0m         \u001b[1;32mtry\u001b[0m\u001b[1;33m:\u001b[0m\u001b[1;33m\u001b[0m\u001b[0m\n\u001b[1;32m-> 1164\u001b[1;33m             \u001b[0mendrec\u001b[0m \u001b[1;33m=\u001b[0m \u001b[0m_EndRecData\u001b[0m\u001b[1;33m(\u001b[0m\u001b[0mfp\u001b[0m\u001b[1;33m)\u001b[0m\u001b[1;33m\u001b[0m\u001b[0m\n\u001b[0m\u001b[0;32m   1165\u001b[0m         \u001b[1;32mexcept\u001b[0m \u001b[0mOSError\u001b[0m\u001b[1;33m:\u001b[0m\u001b[1;33m\u001b[0m\u001b[0m\n\u001b[0;32m   1166\u001b[0m             \u001b[1;32mraise\u001b[0m \u001b[0mBadZipFile\u001b[0m\u001b[1;33m(\u001b[0m\u001b[1;34m\"File is not a zip file\"\u001b[0m\u001b[1;33m)\u001b[0m\u001b[1;33m\u001b[0m\u001b[0m\n",
      "\u001b[1;32mD:\\anaconda3\\lib\\zipfile.py\u001b[0m in \u001b[0;36m_EndRecData\u001b[1;34m(fpin)\u001b[0m\n\u001b[0;32m    239\u001b[0m \u001b[1;33m\u001b[0m\u001b[0m\n\u001b[0;32m    240\u001b[0m     \u001b[1;31m# Determine file size\u001b[0m\u001b[1;33m\u001b[0m\u001b[1;33m\u001b[0m\u001b[0m\n\u001b[1;32m--> 241\u001b[1;33m     \u001b[0mfpin\u001b[0m\u001b[1;33m.\u001b[0m\u001b[0mseek\u001b[0m\u001b[1;33m(\u001b[0m\u001b[1;36m0\u001b[0m\u001b[1;33m,\u001b[0m \u001b[1;36m2\u001b[0m\u001b[1;33m)\u001b[0m\u001b[1;33m\u001b[0m\u001b[0m\n\u001b[0m\u001b[0;32m    242\u001b[0m     \u001b[0mfilesize\u001b[0m \u001b[1;33m=\u001b[0m \u001b[0mfpin\u001b[0m\u001b[1;33m.\u001b[0m\u001b[0mtell\u001b[0m\u001b[1;33m(\u001b[0m\u001b[1;33m)\u001b[0m\u001b[1;33m\u001b[0m\u001b[0m\n\u001b[0;32m    243\u001b[0m \u001b[1;33m\u001b[0m\u001b[0m\n",
      "\u001b[1;31mAttributeError\u001b[0m: 'Response' object has no attribute 'seek'"
     ]
    }
   ],
   "source": [
    "# as shown it doesnt look like an archive will be downloaded\n",
    "# lets test if it still works however\n",
    "\n",
    "archive = zipfile.ZipFile(r2)\n",
    "\n",
    "print(archive.is_zipfile)"
   ]
  },
  {
   "cell_type": "code",
   "execution_count": 7,
   "metadata": {
    "scrolled": true
   },
   "outputs": [
    {
     "name": "stdout",
     "output_type": "stream",
     "text": [
      "{\"nodes\":[{\"nodeID\":\"8837\",\"text\":\"analyses\",\"type\":\"L\",\"timestamp\":\"2012-12-07 12:21:49\"},{\"nodeID\":\"24427\",\"text\":\"{P1 A5} If an animal behaves in a certain manner, what may we conclude the consciousness accompanying its behavior to be like?\",\"type\":\"I\",\"timestamp\":\"2013-10-31 13:58:11\"},{\"nodeID\":\"24428\",\"text\":\"{P2 A2} interpretation is often confused with the observation, but theoretically the two problems are distinct.\",\"type\":\"I\",\"timestamp\":\"2013-10-31 13:58:11\"},{\"nodeID\":\"24429\",\"text\":\"{P3 A5} all psychic interpretation of animal behavior must be on the analogy of human experience.\",\"type\":\"I\",\"timestamp\":\"2013-10-31 13:58:11\"},{\"nodeID\":\"24430\",\"text\":\"{P4 A0} We do not know the meaning of such terms as perception, pleasure, fear, anger, visual sensation, etc., except as these processes form a part of the contents of our own minds.\",\"type\":\"I\",\"timestamp\":\"2013-10-31 13:58:11\"},{\"nodeID\":\"24431\",\"text\":\"RA\",\"type\":\"RA\",\"timestamp\":\"2013-10-31 13:58:11\"},{\"nodeID\":\"24432\",\"text\":\"{P5 A2}  we must be anthropomorphic in the notions we form of what takes place in the mind of an animal.\",\"type\":\"I\",\"timestamp\":\"2013-10-31 13:58:11\"},{\"nodeID\":\"24433\",\"text\":\"RA\",\"type\":\"RA\",\"timestamp\":\"2013-10-31 13:58:11\"},{\"nodeID\":\"24434\",\"text\":\"{P6 A0} Accepting this fundamental proposition, the students of animals have yet differed widely in the conclusions they have drawn from it {P5}\",\"type\":\"I\",\"timestamp\":\"2013-10-31 13:58:11\"},{\"nodeID\":\"24435\",\"text\":\"RA\",\"type\":\"RA\",\"timestamp\":\"2013-10-31 13:58:11\"},{\"nodeID\":\"24436\",\"text\":\"{P7 A0} Some have gone to the extreme of declaring that comparative psychology is therefore impossible. Others have joyfully hastened to make animals as human as they could. Still others have occupied an intermediate position.\",\"type\":\"I\",\"timestamp\":\"2013-10-31 13:58:11\"},{\"nodeID\":\"24437\",\"text\":\"RA\",\"type\":\"RA\",\"timestamp\":\"2013-10-31 13:58:11\"},{\"nodeID\":\"24438\",\"text\":\"RA\",\"type\":\"RA\",\"timestamp\":\"2013-10-31 13:58:11\"},{\"nodeID\":\"24439\",\"text\":\"RA\",\"type\":\"RA\",\"timestamp\":\"2013-10-31 13:58:11\"},{\"nodeID\":\"24440\",\"text\":\"Animal Mind Arg1\",\"type\":\"I\",\"timestamp\":\"2013-10-31 13:58:11\"}],\"edges\":[{\"edgeID\":\"23961\",\"fromID\":\"8837\",\"toID\":\"24427\",\"formEdgeID\":null},{\"edgeID\":\"23962\",\"fromID\":\"8837\",\"toID\":\"24428\",\"formEdgeID\":null},{\"edgeID\":\"23963\",\"fromID\":\"8837\",\"toID\":\"24429\",\"formEdgeID\":null},{\"edgeID\":\"23964\",\"fromID\":\"8837\",\"toID\":\"24430\",\"formEdgeID\":null},{\"edgeID\":\"23965\",\"fromID\":\"24430\",\"toID\":\"24431\",\"formEdgeID\":null},{\"edgeID\":\"23966\",\"fromID\":\"8837\",\"toID\":\"24431\",\"formEdgeID\":null},{\"edgeID\":\"23967\",\"fromID\":\"24431\",\"toID\":\"24429\",\"formEdgeID\":null},{\"edgeID\":\"23968\",\"fromID\":\"8837\",\"toID\":\"24432\",\"formEdgeID\":null},{\"edgeID\":\"23969\",\"fromID\":\"24429\",\"toID\":\"24433\",\"formEdgeID\":null},{\"edgeID\":\"23970\",\"fromID\":\"8837\",\"toID\":\"24433\",\"formEdgeID\":null},{\"edgeID\":\"23971\",\"fromID\":\"24433\",\"toID\":\"24432\",\"formEdgeID\":null},{\"edgeID\":\"23972\",\"fromID\":\"8837\",\"toID\":\"24434\",\"formEdgeID\":null},{\"edgeID\":\"23973\",\"fromID\":\"24432\",\"toID\":\"24435\",\"formEdgeID\":null},{\"edgeID\":\"23974\",\"fromID\":\"8837\",\"toID\":\"24435\",\"formEdgeID\":null},{\"edgeID\":\"23975\",\"fromID\":\"24435\",\"toID\":\"24434\",\"formEdgeID\":null},{\"edgeID\":\"23976\",\"fromID\":\"8837\",\"toID\":\"24436\",\"formEdgeID\":null},{\"edgeID\":\"23977\",\"fromID\":\"24436\",\"toID\":\"24437\",\"formEdgeID\":null},{\"edgeID\":\"23978\",\"fromID\":\"8837\",\"toID\":\"24437\",\"formEdgeID\":null},{\"edgeID\":\"23979\",\"fromID\":\"24437\",\"toID\":\"24434\",\"formEdgeID\":null},{\"edgeID\":\"23980\",\"fromID\":\"24428\",\"toID\":\"24438\",\"formEdgeID\":null},{\"edgeID\":\"23981\",\"fromID\":\"8837\",\"toID\":\"24438\",\"formEdgeID\":null},{\"edgeID\":\"23982\",\"fromID\":\"24438\",\"toID\":\"24434\",\"formEdgeID\":null},{\"edgeID\":\"23983\",\"fromID\":\"24427\",\"toID\":\"24439\",\"formEdgeID\":null},{\"edgeID\":\"23984\",\"fromID\":\"8837\",\"toID\":\"24439\",\"formEdgeID\":null},{\"edgeID\":\"23985\",\"fromID\":\"24439\",\"toID\":\"24434\",\"formEdgeID\":null},{\"edgeID\":\"32170\",\"fromID\":\"8837\",\"toID\":\"8837\",\"formEdgeID\":null}],\"locutions\":[{\"nodeID\":\"8837\",\"personID\":\"488\",\"timestamp\":\"2014-02-19 11:54:58\",\"start\":null,\"end\":null,\"source\":null},{\"nodeID\":\"8837\",\"personID\":\"0\",\"timestamp\":\"2015-11-11 11:38:52\",\"start\":null,\"end\":null,\"source\":null},{\"nodeID\":\"8837\",\"personID\":\"0\",\"timestamp\":\"2015-11-11 11:38:53\",\"start\":null,\"end\":null,\"source\":null},{\"nodeID\":\"8837\",\"personID\":\"0\",\"timestamp\":\"2015-11-11 11:39:16\",\"start\":null,\"end\":null,\"source\":null},{\"nodeID\":\"8837\",\"personID\":\"0\",\"timestamp\":\"2015-11-11 11:39:17\",\"start\":null,\"end\":null,\"source\":null}]}\n"
     ]
    }
   ],
   "source": [
    "print(r.text)"
   ]
  },
  {
   "cell_type": "code",
   "execution_count": 8,
   "metadata": {
    "collapsed": true
   },
   "outputs": [],
   "source": [
    "json_r = json.loads(r.text)"
   ]
  },
  {
   "cell_type": "code",
   "execution_count": 9,
   "metadata": {
    "collapsed": true
   },
   "outputs": [],
   "source": [
    "json_r['map_number'] = 1234"
   ]
  },
  {
   "cell_type": "code",
   "execution_count": 10,
   "metadata": {},
   "outputs": [
    {
     "data": {
      "text/plain": [
       "{'edges': [{'edgeID': '23961',\n",
       "   'formEdgeID': None,\n",
       "   'fromID': '8837',\n",
       "   'toID': '24427'},\n",
       "  {'edgeID': '23962', 'formEdgeID': None, 'fromID': '8837', 'toID': '24428'},\n",
       "  {'edgeID': '23963', 'formEdgeID': None, 'fromID': '8837', 'toID': '24429'},\n",
       "  {'edgeID': '23964', 'formEdgeID': None, 'fromID': '8837', 'toID': '24430'},\n",
       "  {'edgeID': '23965', 'formEdgeID': None, 'fromID': '24430', 'toID': '24431'},\n",
       "  {'edgeID': '23966', 'formEdgeID': None, 'fromID': '8837', 'toID': '24431'},\n",
       "  {'edgeID': '23967', 'formEdgeID': None, 'fromID': '24431', 'toID': '24429'},\n",
       "  {'edgeID': '23968', 'formEdgeID': None, 'fromID': '8837', 'toID': '24432'},\n",
       "  {'edgeID': '23969', 'formEdgeID': None, 'fromID': '24429', 'toID': '24433'},\n",
       "  {'edgeID': '23970', 'formEdgeID': None, 'fromID': '8837', 'toID': '24433'},\n",
       "  {'edgeID': '23971', 'formEdgeID': None, 'fromID': '24433', 'toID': '24432'},\n",
       "  {'edgeID': '23972', 'formEdgeID': None, 'fromID': '8837', 'toID': '24434'},\n",
       "  {'edgeID': '23973', 'formEdgeID': None, 'fromID': '24432', 'toID': '24435'},\n",
       "  {'edgeID': '23974', 'formEdgeID': None, 'fromID': '8837', 'toID': '24435'},\n",
       "  {'edgeID': '23975', 'formEdgeID': None, 'fromID': '24435', 'toID': '24434'},\n",
       "  {'edgeID': '23976', 'formEdgeID': None, 'fromID': '8837', 'toID': '24436'},\n",
       "  {'edgeID': '23977', 'formEdgeID': None, 'fromID': '24436', 'toID': '24437'},\n",
       "  {'edgeID': '23978', 'formEdgeID': None, 'fromID': '8837', 'toID': '24437'},\n",
       "  {'edgeID': '23979', 'formEdgeID': None, 'fromID': '24437', 'toID': '24434'},\n",
       "  {'edgeID': '23980', 'formEdgeID': None, 'fromID': '24428', 'toID': '24438'},\n",
       "  {'edgeID': '23981', 'formEdgeID': None, 'fromID': '8837', 'toID': '24438'},\n",
       "  {'edgeID': '23982', 'formEdgeID': None, 'fromID': '24438', 'toID': '24434'},\n",
       "  {'edgeID': '23983', 'formEdgeID': None, 'fromID': '24427', 'toID': '24439'},\n",
       "  {'edgeID': '23984', 'formEdgeID': None, 'fromID': '8837', 'toID': '24439'},\n",
       "  {'edgeID': '23985', 'formEdgeID': None, 'fromID': '24439', 'toID': '24434'},\n",
       "  {'edgeID': '32170', 'formEdgeID': None, 'fromID': '8837', 'toID': '8837'}],\n",
       " 'locutions': [{'end': None,\n",
       "   'nodeID': '8837',\n",
       "   'personID': '488',\n",
       "   'source': None,\n",
       "   'start': None,\n",
       "   'timestamp': '2014-02-19 11:54:58'},\n",
       "  {'end': None,\n",
       "   'nodeID': '8837',\n",
       "   'personID': '0',\n",
       "   'source': None,\n",
       "   'start': None,\n",
       "   'timestamp': '2015-11-11 11:38:52'},\n",
       "  {'end': None,\n",
       "   'nodeID': '8837',\n",
       "   'personID': '0',\n",
       "   'source': None,\n",
       "   'start': None,\n",
       "   'timestamp': '2015-11-11 11:38:53'},\n",
       "  {'end': None,\n",
       "   'nodeID': '8837',\n",
       "   'personID': '0',\n",
       "   'source': None,\n",
       "   'start': None,\n",
       "   'timestamp': '2015-11-11 11:39:16'},\n",
       "  {'end': None,\n",
       "   'nodeID': '8837',\n",
       "   'personID': '0',\n",
       "   'source': None,\n",
       "   'start': None,\n",
       "   'timestamp': '2015-11-11 11:39:17'}],\n",
       " 'map_number': 1234,\n",
       " 'nodes': [{'nodeID': '8837',\n",
       "   'text': 'analyses',\n",
       "   'timestamp': '2012-12-07 12:21:49',\n",
       "   'type': 'L'},\n",
       "  {'nodeID': '24427',\n",
       "   'text': '{P1 A5} If an animal behaves in a certain manner, what may we conclude the consciousness accompanying its behavior to be like?',\n",
       "   'timestamp': '2013-10-31 13:58:11',\n",
       "   'type': 'I'},\n",
       "  {'nodeID': '24428',\n",
       "   'text': '{P2 A2} interpretation is often confused with the observation, but theoretically the two problems are distinct.',\n",
       "   'timestamp': '2013-10-31 13:58:11',\n",
       "   'type': 'I'},\n",
       "  {'nodeID': '24429',\n",
       "   'text': '{P3 A5} all psychic interpretation of animal behavior must be on the analogy of human experience.',\n",
       "   'timestamp': '2013-10-31 13:58:11',\n",
       "   'type': 'I'},\n",
       "  {'nodeID': '24430',\n",
       "   'text': '{P4 A0} We do not know the meaning of such terms as perception, pleasure, fear, anger, visual sensation, etc., except as these processes form a part of the contents of our own minds.',\n",
       "   'timestamp': '2013-10-31 13:58:11',\n",
       "   'type': 'I'},\n",
       "  {'nodeID': '24431',\n",
       "   'text': 'RA',\n",
       "   'timestamp': '2013-10-31 13:58:11',\n",
       "   'type': 'RA'},\n",
       "  {'nodeID': '24432',\n",
       "   'text': '{P5 A2}  we must be anthropomorphic in the notions we form of what takes place in the mind of an animal.',\n",
       "   'timestamp': '2013-10-31 13:58:11',\n",
       "   'type': 'I'},\n",
       "  {'nodeID': '24433',\n",
       "   'text': 'RA',\n",
       "   'timestamp': '2013-10-31 13:58:11',\n",
       "   'type': 'RA'},\n",
       "  {'nodeID': '24434',\n",
       "   'text': '{P6 A0} Accepting this fundamental proposition, the students of animals have yet differed widely in the conclusions they have drawn from it {P5}',\n",
       "   'timestamp': '2013-10-31 13:58:11',\n",
       "   'type': 'I'},\n",
       "  {'nodeID': '24435',\n",
       "   'text': 'RA',\n",
       "   'timestamp': '2013-10-31 13:58:11',\n",
       "   'type': 'RA'},\n",
       "  {'nodeID': '24436',\n",
       "   'text': '{P7 A0} Some have gone to the extreme of declaring that comparative psychology is therefore impossible. Others have joyfully hastened to make animals as human as they could. Still others have occupied an intermediate position.',\n",
       "   'timestamp': '2013-10-31 13:58:11',\n",
       "   'type': 'I'},\n",
       "  {'nodeID': '24437',\n",
       "   'text': 'RA',\n",
       "   'timestamp': '2013-10-31 13:58:11',\n",
       "   'type': 'RA'},\n",
       "  {'nodeID': '24438',\n",
       "   'text': 'RA',\n",
       "   'timestamp': '2013-10-31 13:58:11',\n",
       "   'type': 'RA'},\n",
       "  {'nodeID': '24439',\n",
       "   'text': 'RA',\n",
       "   'timestamp': '2013-10-31 13:58:11',\n",
       "   'type': 'RA'},\n",
       "  {'nodeID': '24440',\n",
       "   'text': 'Animal Mind Arg1',\n",
       "   'timestamp': '2013-10-31 13:58:11',\n",
       "   'type': 'I'}]}"
      ]
     },
     "execution_count": 10,
     "metadata": {},
     "output_type": "execute_result"
    }
   ],
   "source": [
    "json_r"
   ]
  },
  {
   "cell_type": "code",
   "execution_count": null,
   "metadata": {
    "collapsed": true
   },
   "outputs": [],
   "source": []
  }
 ],
 "metadata": {
  "kernelspec": {
   "display_name": "Python 3",
   "language": "python",
   "name": "python3"
  },
  "language_info": {
   "codemirror_mode": {
    "name": "ipython",
    "version": 3
   },
   "file_extension": ".py",
   "mimetype": "text/x-python",
   "name": "python",
   "nbconvert_exporter": "python",
   "pygments_lexer": "ipython3",
   "version": "3.6.1"
  }
 },
 "nbformat": 4,
 "nbformat_minor": 2
}
