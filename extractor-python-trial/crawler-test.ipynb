{
 "cells": [
  {
   "cell_type": "code",
   "execution_count": 1,
   "metadata": {
    "collapsed": true
   },
   "outputs": [],
   "source": [
    "# import libraries\n",
    "import urllib3\n",
    "import re\n",
    "import requests\n",
    "import pymongo"
   ]
  },
  {
   "cell_type": "code",
   "execution_count": 7,
   "metadata": {},
   "outputs": [
    {
     "name": "stdout",
     "output_type": "stream",
     "text": [
      "200\n"
     ]
    }
   ],
   "source": [
    "# the link to the corpora\n",
    "link = 'http://corpora.aifdb.org/'\n",
    "\n",
    "# access the webpage\n",
    "r = requests.get(link)\n",
    "\n",
    "print(r.status_code)"
   ]
  },
  {
   "cell_type": "code",
   "execution_count": null,
   "metadata": {
    "collapsed": true
   },
   "outputs": [],
   "source": [
    "print(r.text)"
   ]
  },
  {
   "cell_type": "code",
   "execution_count": null,
   "metadata": {
    "collapsed": true
   },
   "outputs": [],
   "source": [
    "r.encoding"
   ]
  },
  {
   "cell_type": "code",
   "execution_count": 8,
   "metadata": {},
   "outputs": [
    {
     "name": "stdout",
     "output_type": "stream",
     "text": [
      "128\n"
     ]
    }
   ],
   "source": [
    "links = re.findall(r'href=[\\'\"]?([a-zA-Z0-9]+)[\\'\"]?\\sclass=\\\"corporalink\\\"', r.text)\n",
    "print(len(links))"
   ]
  },
  {
   "cell_type": "code",
   "execution_count": 9,
   "metadata": {},
   "outputs": [
    {
     "name": "stdout",
     "output_type": "stream",
     "text": [
      "['dbyd', 'mediation', 'britishempire', 'araucaria', 'Money', 'welfare', 'araucariapl', 'schemes', 'francais', 'hind', 'crllc', 'cocacola', 'BOA', 'MSports', 'problem', 'ZH', 'premodernchina', 'EOPO', 'looc1android', 'looc1ban', 'looc1ipad', 'looc1layoffs', 'looc1twitter', 'looc1', 'mediationothers', 'mockmediation', 'BKTC', 'ArgMine', 'RS', 'mm2012', 'ecademo', 'critical', 'handbook', 'therapeutic', 'bargain', 'PD', 'metatalk', 'TE', 'erulemakingtrain', 'erulemakingtrain2', 'mm2012a', 'erulemakingtest', 'erulemakingtest2', 'TechnologyUse', 'bankingsystem', 'mm2012b', 'moralmaze', 'mmbs2', 'MMBSas1', 'RRD', 'Ethan', 'ethan2', 'Microtext', 'dag1', 'dagstuhltest', 'mmbsmj', 'SAA', 'cd', 'cd2', 'rep', 'Ethan3', 'ethtest', 'IAC', 'yemen', 'mm2012c', 'Ethan3Train', 'Ethan3Test', 'ArgDiaP2015', 'Test', 'KTAIF2', 'mmbsmb', 'MMSyr', 'erkappa', 'US2016D1reddit', 'NP', 'CHArgMaps', 'US2016R1reddit', 'US2016D1tv', 'US2016R1tv', 'US2016G1tv', 'US2016D1tviaa', 'US2016G1tviaa', 'US2016R1tviaa', 'US2016D1', 'US2016', 'US2016R1', 'US2016G1', 'US2016tv', 'US2016reddit', 'US2016D1itc', 'US2016R1itc', 'US2016G1itc', 'US2016itc', 'US2016G1reddit', 'US2016G1redditiaa', 'US2016D1redditiaa', 'US2016R1redditiaa', '12', 'Ghent', 'MoralMazeGreenBelt', 'ipipan', 'Hethos', 'WVG', 'CBRMicrotextEval', 'WVGTrain', 'WVGTest', 'APT', 'RephAMURutkowski', 'rephamumisiaszek', 'zadkowska', 'rephamurybka', 'rephamukonat', 'rephamuperszko', 'rephamuklasa', 'ramumack', 'RephAMUSeyda', 'rephamucwierz', 'dmo2017', 'probnykorpus', 'cd3', 'rephamucasimiro', 'RephAMU', 'Trela', 'SylwiaDabrowska', 'trainingcorpus', 'BPtraining', 'TrelaIAA', 'RephAMUMisiaszekIAA']\n"
     ]
    }
   ],
   "source": [
    "print(links)"
   ]
  },
  {
   "cell_type": "code",
   "execution_count": 11,
   "metadata": {
    "scrolled": true
   },
   "outputs": [
    {
     "name": "stdout",
     "output_type": "stream",
     "text": [
      "200\n",
      "<!DOCTYPE html>\n",
      "\n",
      "<html lang=\"en\">\n",
      "\n",
      "<head>\n",
      "    <title></title>\n",
      "    <meta http-equiv=\"content-type\" content=\"text/html; charset=utf-8\" />\n",
      "    <link rel=\"stylesheet\" href=\"res/css/default.css\" />\n",
      "\n",
      "    <script language=\"javascript\" type=\"text/javascript\" src=\"res/js/jquery-1.9.1.min.js\"></script>\n",
      "    <script language=\"javascript\" type=\"text/javascript\" src=\"res/js/corpora.js\"></script>\n",
      "    <script language=\"javascript\" type=\"text/javascript\">\n",
      "    function filter(element) {\n",
      "        var value = $(element).val();\n",
      "\n",
      "        $(\".nodeset\").each(function() {\n",
      "            if ($(this).find(\".fulltext\").text().search(value) > -1 || $(this).find(\".mapttl\").text().search(value) > -1) {\n",
      "                $(this).show();\n",
      "            } else {\n",
      "                $(this).hide();\n",
      "            }\n",
      "        });\n",
      "    }\n",
      "    </script>\n",
      "\n",
      "</head>\n",
      "\n",
      "<body id=\"main_body\">\n",
      "<div id=\"header\">\n",
      "    <div class=\"ccol\">\n",
      "    <input class=\"search-text\" type=\"text\" name=\"q\" placeholder=\"Search \" value=\"\" onkeyup=\"filter(this)\" />\n",
      "    <a href=\"http://www.aifdb.org/\"><img src=\"res/img/AIFdb_small_bw.png\" style=\"margin-top: 12px;\" /></a>\n",
      "    <h1><a href=\"index.php\">Corpora</a></h1>\n",
      "    </div>\n",
      "</div>\n",
      "\n",
      "<div class=\"ccol\" id=\"maincontent\">\n",
      "<h1 class=\"ctitle\">DbyD Argument Study</h1><p class=\"dl\">Download full corpus: <a href=\"tar/dbyd\">tar.gz</a> <span style=\"color: #aaa\">|</span> <a href=\"zip/dbyd\">zip</a> || View <a href=\"http://analytics.arg-tech.org/overview.php?c=dbyd\">analytics</a></p></div>\n",
      "<div id=\"loadingmsg\">\n",
      "    <img src=\"res/img/load-circle.gif\" />\n",
      "</div>\n",
      "<script type=\"text/javascript\">var nsIDs = [1238,1239,1240,1241,1242,1243,1244,1245,1246,1247,1248,1249,1250,1251,1252,1253,1254,1255,1256,1257,1258,1259,1260,1261,1262,1263,1264,1265,1266,1267,1268,1269,1270,1271,1272,1273,1274,1275,1276,1277,1278,1279,1280,1281,1282,1283,1357,1451,1454,1455,1534,1570,1584,1608,1613,1661,1670,1671,1672,1678,2182,2220,2230,2232,2234,2238,2247,2321,4574,4600,4713,4720,4742,4743,4767,4768,4770,4771,4876,4896,5598,5629,5630,5631,5632,5669,5711,5773,5800,5817,5823,5863,5921,6113,6118,6296,6347,6604,6611,6654,6733,6734,6735,6747,6778,6780,6792,6807,6963,6965,6971,6987,9055,9056,9094,9112,9113,9279,9288,9329,9330,9331,9338,9355,9913,10077,10471,10753,10941,10952,11043,11046,11052,11053,11055,11150,11155,11158,11158,11162,11173,11173,11181,11193,11196,11198,11205,11207,11208,11209,11211,11218,11327,11329,11336,11338,11342,11349,11350,11458,11529,11657,11661,11662,11663,11664,11682,11681,11694,11703,11793,12088];getMaps(nsIDs);</script>\n",
      "<script>\n",
      "  (function(i,s,o,g,r,a,m){i['GoogleAnalyticsObject']=r;i[r]=i[r]||function(){\n",
      "  (i[r].q=i[r].q||[]).push(arguments)},i[r].l=1*new Date();a=s.createElement(o),\n",
      "  m=s.getElementsByTagName(o)[0];a.async=1;a.src=g;m.parentNode.insertBefore(a,m)\n",
      "  })(window,document,'script','//www.google-analytics.com/analytics.js','ga');\n",
      "\n",
      "  ga('create', 'UA-57239260-1', 'auto');\n",
      "  ga('send', 'pageview');\n",
      "\n",
      "</script>\n",
      "</body>\n",
      "</html>\n",
      "\n"
     ]
    }
   ],
   "source": [
    "r2 = requests.get(link + links[0])\n",
    "print(r2.status_code)\n",
    "\n",
    "print(r2.text)"
   ]
  },
  {
   "cell_type": "code",
   "execution_count": 15,
   "metadata": {},
   "outputs": [
    {
     "name": "stdout",
     "output_type": "stream",
     "text": [
      "['1238,1239,1240,1241,1242,1243,1244,1245,1246,1247,1248,1249,1250,1251,1252,1253,1254,1255,1256,1257,1258,1259,1260,1261,1262,1263,1264,1265,1266,1267,1268,1269,1270,1271,1272,1273,1274,1275,1276,1277,1278,1279,1280,1281,1282,1283,1357,1451,1454,1455,1534,1570,1584,1608,1613,1661,1670,1671,1672,1678,2182,2220,2230,2232,2234,2238,2247,2321,4574,4600,4713,4720,4742,4743,4767,4768,4770,4771,4876,4896,5598,5629,5630,5631,5632,5669,5711,5773,5800,5817,5823,5863,5921,6113,6118,6296,6347,6604,6611,6654,6733,6734,6735,6747,6778,6780,6792,6807,6963,6965,6971,6987,9055,9056,9094,9112,9113,9279,9288,9329,9330,9331,9338,9355,9913,10077,10471,10753,10941,10952,11043,11046,11052,11053,11055,11150,11155,11158,11158,11162,11173,11173,11181,11193,11196,11198,11205,11207,11208,11209,11211,11218,11327,11329,11336,11338,11342,11349,11350,11458,11529,11657,11661,11662,11663,11664,11682,11681,11694,11703,11793,12088']\n",
      "['1238', '1239', '1240', '1241', '1242', '1243', '1244', '1245', '1246', '1247', '1248', '1249', '1250', '1251', '1252', '1253', '1254', '1255', '1256', '1257', '1258', '1259', '1260', '1261', '1262', '1263', '1264', '1265', '1266', '1267', '1268', '1269', '1270', '1271', '1272', '1273', '1274', '1275', '1276', '1277', '1278', '1279', '1280', '1281', '1282', '1283', '1357', '1451', '1454', '1455', '1534', '1570', '1584', '1608', '1613', '1661', '1670', '1671', '1672', '1678', '2182', '2220', '2230', '2232', '2234', '2238', '2247', '2321', '4574', '4600', '4713', '4720', '4742', '4743', '4767', '4768', '4770', '4771', '4876', '4896', '5598', '5629', '5630', '5631', '5632', '5669', '5711', '5773', '5800', '5817', '5823', '5863', '5921', '6113', '6118', '6296', '6347', '6604', '6611', '6654', '6733', '6734', '6735', '6747', '6778', '6780', '6792', '6807', '6963', '6965', '6971', '6987', '9055', '9056', '9094', '9112', '9113', '9279', '9288', '9329', '9330', '9331', '9338', '9355', '9913', '10077', '10471', '10753', '10941', '10952', '11043', '11046', '11052', '11053', '11055', '11150', '11155', '11158', '11158', '11162', '11173', '11173', '11181', '11193', '11196', '11198', '11205', '11207', '11208', '11209', '11211', '11218', '11327', '11329', '11336', '11338', '11342', '11349', '11350', '11458', '11529', '11657', '11661', '11662', '11663', '11664', '11682', '11681', '11694', '11703', '11793', '12088']\n"
     ]
    }
   ],
   "source": [
    "map_links = re.findall(r'var\\snsIDs\\s=\\s\\[([\\d,]*)\\]', r2.text)\n",
    "\n",
    "print(map_links)\n",
    "# print(len(map_links[0].split(\",\")))\n",
    "print(map_links[0].split(\",\"))"
   ]
  },
  {
   "cell_type": "code",
   "execution_count": 3,
   "metadata": {},
   "outputs": [
    {
     "name": "stdout",
     "output_type": "stream",
     "text": [
      "{'version': '3.4.4', 'gitVersion': '888390515874a9debd1b6c5d36559ca86b44babd', 'targetMinOS': 'Windows 7/Windows Server 2008 R2', 'modules': [], 'allocator': 'tcmalloc', 'javascriptEngine': 'mozjs', 'sysInfo': 'deprecated', 'versionArray': [3, 4, 4, 0], 'openssl': {'running': 'OpenSSL 1.0.1u-fips  22 Sep 2016', 'compiled': 'OpenSSL 1.0.1u-fips  22 Sep 2016'}, 'buildEnvironment': {'distmod': '2008plus-ssl', 'distarch': 'x86_64', 'cc': 'cl: Microsoft (R) C/C++ Optimizing Compiler Version 19.00.24218.1 for x64', 'ccflags': '/nologo /EHsc /W3 /wd4355 /wd4800 /wd4267 /wd4244 /wd4290 /wd4068 /wd4351 /we4013 /we4099 /we4930 /Z7 /errorReport:none /MD /O2 /Oy- /bigobj /Gw /Gy /Zc:inline', 'cxx': 'cl: Microsoft (R) C/C++ Optimizing Compiler Version 19.00.24218.1 for x64', 'cxxflags': '/TP', 'linkflags': '/nologo /DEBUG /INCREMENTAL:NO /LARGEADDRESSAWARE /OPT:REF', 'target_arch': 'x86_64', 'target_os': 'windows'}, 'bits': 64, 'debug': False, 'maxBsonObjectSize': 16777216, 'storageEngines': ['devnull', 'ephemeralForTest', 'mmapv1', 'wiredTiger'], 'ok': 1.0}\n"
     ]
    }
   ],
   "source": [
    "maxDelay = 1\n",
    "\n",
    "try:\n",
    "    mongo = pymongo.MongoClient(serverSelectionTimeoutMS=maxDelay)\n",
    "    print(mongo.server_info())\n",
    "except pymongo.errors.ServerSelectionTimeoutError as e:\n",
    "    print('Server not available')"
   ]
  },
  {
   "cell_type": "code",
   "execution_count": 5,
   "metadata": {},
   "outputs": [
    {
     "name": "stdout",
     "output_type": "stream",
     "text": [
      "('localhost', 27017)\n"
     ]
    }
   ],
   "source": [
    "print(mongo.address)"
   ]
  },
  {
   "cell_type": "code",
   "execution_count": 16,
   "metadata": {},
   "outputs": [
    {
     "data": {
      "text/plain": [
       "['dbyd']"
      ]
     },
     "execution_count": 16,
     "metadata": {},
     "output_type": "execute_result"
    }
   ],
   "source": [
    "mongo['arguments'].collection_names()"
   ]
  },
  {
   "cell_type": "code",
   "execution_count": 10,
   "metadata": {},
   "outputs": [
    {
     "name": "stdout",
     "output_type": "stream",
     "text": [
      "['dbyd', 'mediation', 'britishempire', 'araucaria', 'Money', 'welfare', 'araucariapl', 'schemes', 'francais', 'hind', 'crllc', 'cocacola', 'BOA', 'MSports', 'problem', 'ZH', 'premodernchina', 'EOPO', 'looc1android', 'looc1ban', 'looc1ipad', 'looc1layoffs', 'looc1twitter', 'looc1', 'mediationothers', 'mockmediation', 'BKTC', 'ArgMine', 'RS', 'mm2012', 'ecademo', 'critical', 'handbook', 'therapeutic', 'bargain', 'PD', 'metatalk', 'TE', 'erulemakingtrain', 'erulemakingtrain2', 'mm2012a', 'erulemakingtest', 'erulemakingtest2', 'TechnologyUse', 'bankingsystem', 'mm2012b', 'moralmaze', 'mmbs2', 'MMBSas1', 'RRD', 'Ethan', 'ethan2', 'Microtext', 'dag1', 'dagstuhltest', 'mmbsmj', 'SAA', 'cd', 'cd2', 'rep', 'Ethan3', 'ethtest', 'IAC', 'yemen', 'mm2012c', 'Ethan3Train', 'Ethan3Test', 'ArgDiaP2015', 'Test', 'KTAIF2', 'mmbsmb', 'MMSyr', 'erkappa', 'US2016D1reddit', 'NP', 'CHArgMaps', 'US2016R1reddit', 'US2016D1tv', 'US2016R1tv', 'US2016G1tv', 'US2016D1tviaa', 'US2016G1tviaa', 'US2016R1tviaa', 'US2016D1', 'US2016', 'US2016R1', 'US2016G1', 'US2016tv', 'US2016reddit', 'US2016D1itc', 'US2016R1itc', 'US2016G1itc', 'US2016itc', 'US2016G1reddit', 'US2016G1redditiaa', 'US2016D1redditiaa', 'US2016R1redditiaa', '12', 'Ghent', 'MoralMazeGreenBelt', 'ipipan', 'Hethos', 'WVG', 'CBRMicrotextEval', 'WVGTrain', 'WVGTest', 'APT', 'RephAMURutkowski', 'rephamumisiaszek', 'zadkowska', 'rephamurybka', 'rephamukonat', 'rephamuperszko', 'rephamuklasa', 'ramumack', 'RephAMUSeyda', 'rephamucwierz', 'dmo2017', 'probnykorpus', 'cd3', 'rephamucasimiro', 'RephAMU', 'Trela', 'SylwiaDabrowska', 'trainingcorpus', 'BPtraining', 'TrelaIAA', 'RephAMUMisiaszekIAA']\n"
     ]
    }
   ],
   "source": [
    "updates = [x for x in links if x not in mongo['arguments'].collection_names()]\n",
    "print(updates)"
   ]
  },
  {
   "cell_type": "code",
   "execution_count": 17,
   "metadata": {},
   "outputs": [
    {
     "name": "stdout",
     "output_type": "stream",
     "text": [
      "0\n"
     ]
    }
   ],
   "source": [
    "cursor = mongo['arguments']['mediation'].find()\n",
    "\n",
    "print(cursor.count())"
   ]
  },
  {
   "cell_type": "code",
   "execution_count": null,
   "metadata": {
    "collapsed": true
   },
   "outputs": [],
   "source": []
  }
 ],
 "metadata": {
  "kernelspec": {
   "display_name": "Python 3",
   "language": "python",
   "name": "python3"
  },
  "language_info": {
   "codemirror_mode": {
    "name": "ipython",
    "version": 3
   },
   "file_extension": ".py",
   "mimetype": "text/x-python",
   "name": "python",
   "nbconvert_exporter": "python",
   "pygments_lexer": "ipython3",
   "version": "3.6.1"
  }
 },
 "nbformat": 4,
 "nbformat_minor": 2
}
